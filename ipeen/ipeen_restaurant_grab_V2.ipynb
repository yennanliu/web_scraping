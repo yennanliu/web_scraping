{
 "cells": [
  {
   "cell_type": "code",
   "execution_count": 39,
   "metadata": {
    "collapsed": true
   },
   "outputs": [],
   "source": [
    "# -*- coding: utf-8 -*-"
   ]
  },
  {
   "cell_type": "code",
   "execution_count": 1,
   "metadata": {
    "collapsed": true
   },
   "outputs": [],
   "source": [
    "import urllib \n",
    "#import simplejson \n",
    "from urllib.request import urlopen\n",
    "import csv\n",
    "import requests\n",
    "from bs4 import BeautifulSoup\n",
    "import lxml\n",
    "import urllib, json\n",
    "import pandas as pd, numpy as np\n",
    "import pprint\n",
    "import datetime as dt \n",
    "from urllib.parse   import quote\n",
    "import sys \n",
    "#import urllib2\n",
    "import re\n",
    "import lxml"
   ]
  },
  {
   "cell_type": "code",
   "execution_count": 63,
   "metadata": {
    "collapsed": true
   },
   "outputs": [],
   "source": [
    "# help function \n",
    "\n",
    "def url_fix(x):\n",
    "    return 'http://www.ipeen.com.tw' + x\n",
    "\n",
    "def parse_area(x):\n",
    "    return x[3:6]"
   ]
  },
  {
   "cell_type": "code",
   "execution_count": 27,
   "metadata": {
    "collapsed": true
   },
   "outputs": [],
   "source": [
    "output = [[] for k in range(4)]"
   ]
  },
  {
   "cell_type": "code",
   "execution_count": 76,
   "metadata": {},
   "outputs": [
    {
     "data": {
      "text/plain": [
       "'%E5%A4%A7%E5%AE%89%E5%8D%80'"
      ]
     },
     "execution_count": 76,
     "metadata": {},
     "output_type": "execute_result"
    }
   ],
   "source": [
    "#parse chiese into code can integrate into url \n",
    "from urllib.parse import quote\n",
    "quote('大安區')"
   ]
  },
  {
   "cell_type": "code",
   "execution_count": 49,
   "metadata": {},
   "outputs": [
    {
     "name": "stderr",
     "output_type": "stream",
     "text": [
      "//anaconda/envs/g_dash/lib/python3.4/site-packages/bs4/__init__.py:181: UserWarning: No parser was explicitly specified, so I'm using the best available HTML parser for this system (\"html5lib\"). This usually isn't a problem, but if you run this code on another system, or in a different virtual environment, it may use a different parser and behave differently.\n",
      "\n",
      "The code that caused this warning is on line 170 of the file /anaconda/envs/g_dash/lib/python3.4/runpy.py. To get rid of this warning, change code that looks like this:\n",
      "\n",
      " BeautifulSoup([your markup])\n",
      "\n",
      "to this:\n",
      "\n",
      " BeautifulSoup([your markup], \"html5lib\")\n",
      "\n",
      "  markup_type=markup_type))\n"
     ]
    }
   ],
   "source": [
    "for page in range(1,5):\n",
    "    #url ='http://www.ipeen.com.tw/search/all/000/0-100-0-0/%E4%B8%AD%E5%BC%8F/?p={}&adkw=%E5%8F%B0%E5%8C%97'.format(page)\n",
    "    #print (url)\n",
    "    url_='http://www.ipeen.com.tw/search/all/000/0-100-0-0/?adkw=%E5%A4%A7%E5%AE%89%E5%8D%80&bar={}'\n",
    "    url_=url_.format(page)\n",
    "    opener=urllib.request.build_opener()\n",
    "    opener.addheaders = [('User-agent', 'Mozilla/5.0')]\n",
    "    page = opener.open(url_)\n",
    "    soup = BeautifulSoup(page)\n",
    "    for k in soup.find_all('a', attrs={'data-label': '店名'}):\n",
    "        output[0].append(k.text)\n",
    "\n",
    "    for k in soup.findAll('span',{\"style\":\"padding-left:3em;\"}):\n",
    "        output[1].append(k.get_text())\n",
    "    \n",
    "    for k in soup.find_all('a', {'class':\"a37 ga_tracking\"}):\n",
    "        if \"/shop/\" in str(k['href']):\n",
    "            output[2].append((k['href']))\n",
    "    for k in soup.find_all('a', attrs={'class': 'ga_tracking'}):\n",
    "        if \"大分類\" in str(k):\n",
    "            #print (k.text)\n",
    "            output[3].append((k.text))\n",
    "        \n",
    "        else:\n",
    "            pass"
   ]
  },
  {
   "cell_type": "code",
   "execution_count": 52,
   "metadata": {},
   "outputs": [
    {
     "data": {
      "text/plain": [
       "'http://www.ipeen.com.tw/search/all/000/0-100-0-0/?adkw=%E5%A4%A7%E5%AE%89%E5%8D%80&bar=4'"
      ]
     },
     "execution_count": 52,
     "metadata": {},
     "output_type": "execute_result"
    }
   ],
   "source": [
    "url_"
   ]
  },
  {
   "cell_type": "code",
   "execution_count": 50,
   "metadata": {},
   "outputs": [
    {
     "data": {
      "text/html": [
       "<div>\n",
       "<table border=\"1\" class=\"dataframe\">\n",
       "  <thead>\n",
       "    <tr style=\"text-align: right;\">\n",
       "      <th></th>\n",
       "      <th>name</th>\n",
       "      <th>address</th>\n",
       "      <th>url</th>\n",
       "      <th>style</th>\n",
       "    </tr>\n",
       "  </thead>\n",
       "  <tbody>\n",
       "    <tr>\n",
       "      <th>0</th>\n",
       "      <td>吉宏米粉湯(西門町店)</td>\n",
       "      <td>台北市萬華區昆明街140號1樓\\n\\t\\t\\t\\t\\t\\t\\t\\t\\t\\t\\t\\t\\t\\t\\...</td>\n",
       "      <td>http://www.ipeen.com.tw/shop/1082330-吉宏米粉湯-西門町店</td>\n",
       "      <td>小吃</td>\n",
       "    </tr>\n",
       "    <tr>\n",
       "      <th>1</th>\n",
       "      <td>瓦法奇朵Waffogato(台北車站店)</td>\n",
       "      <td>台北市中正區信陽街29號\\n\\t\\t\\t\\t\\t\\t\\t\\t\\t\\t\\t\\t\\t\\t\\n\\t...</td>\n",
       "      <td>http://www.ipeen.com.tw/shop/979300-瓦法奇朵Waffog...</td>\n",
       "      <td>異國料理</td>\n",
       "    </tr>\n",
       "    <tr>\n",
       "      <th>2</th>\n",
       "      <td>添好運台灣 Timhowan Taiwan</td>\n",
       "      <td>台北市中正區忠孝西路一段36號1樓\\n\\t\\t\\t\\t\\t\\t\\t\\t\\t\\t\\t\\t\\t\\...</td>\n",
       "      <td>http://www.ipeen.com.tw/shop/965236-添好運台灣-Timh...</td>\n",
       "      <td>中式料理</td>\n",
       "    </tr>\n",
       "    <tr>\n",
       "      <th>3</th>\n",
       "      <td>威靈頓街1號 粥麵茶餐廳</td>\n",
       "      <td>台北市中正區館前路12號5樓 (UNIQLO樓上)\\n\\t\\t\\t\\t\\t\\t\\t\\t\\t\\...</td>\n",
       "      <td>http://www.ipeen.com.tw/shop/156281-威靈頓街1號-粥麵茶餐廳</td>\n",
       "      <td>中式料理</td>\n",
       "    </tr>\n",
       "    <tr>\n",
       "      <th>4</th>\n",
       "      <td>劉山東小吃店</td>\n",
       "      <td>台北市中正區開封街一段14巷2號\\n\\t\\t\\t\\t\\t\\t\\t\\t\\t\\t\\t\\t\\t\\t...</td>\n",
       "      <td>http://www.ipeen.com.tw/shop/44415-劉山東小吃店</td>\n",
       "      <td>中式料理</td>\n",
       "    </tr>\n",
       "  </tbody>\n",
       "</table>\n",
       "</div>"
      ],
      "text/plain": [
       "                    name                                            address  \\\n",
       "0            吉宏米粉湯(西門町店)  台北市萬華區昆明街140號1樓\\n\\t\\t\\t\\t\\t\\t\\t\\t\\t\\t\\t\\t\\t\\t\\...   \n",
       "1   瓦法奇朵Waffogato(台北車站店)  台北市中正區信陽街29號\\n\\t\\t\\t\\t\\t\\t\\t\\t\\t\\t\\t\\t\\t\\t\\n\\t...   \n",
       "2  添好運台灣 Timhowan Taiwan  台北市中正區忠孝西路一段36號1樓\\n\\t\\t\\t\\t\\t\\t\\t\\t\\t\\t\\t\\t\\t\\...   \n",
       "3           威靈頓街1號 粥麵茶餐廳  台北市中正區館前路12號5樓 (UNIQLO樓上)\\n\\t\\t\\t\\t\\t\\t\\t\\t\\t\\...   \n",
       "4                 劉山東小吃店  台北市中正區開封街一段14巷2號\\n\\t\\t\\t\\t\\t\\t\\t\\t\\t\\t\\t\\t\\t\\t...   \n",
       "\n",
       "                                                 url style  \n",
       "0    http://www.ipeen.com.tw/shop/1082330-吉宏米粉湯-西門町店    小吃  \n",
       "1  http://www.ipeen.com.tw/shop/979300-瓦法奇朵Waffog...  異國料理  \n",
       "2  http://www.ipeen.com.tw/shop/965236-添好運台灣-Timh...  中式料理  \n",
       "3   http://www.ipeen.com.tw/shop/156281-威靈頓街1號-粥麵茶餐廳  中式料理  \n",
       "4          http://www.ipeen.com.tw/shop/44415-劉山東小吃店  中式料理  "
      ]
     },
     "execution_count": 50,
     "metadata": {},
     "output_type": "execute_result"
    }
   ],
   "source": [
    "df = pd.DataFrame(output).T\n",
    "df.columns = ['name', 'address', 'url','style']\n",
    "df.url = df.url.apply(lambda x :url_fix(x) )\n",
    "df.to_csv('ipeen_scrap.csv')\n",
    "df.head()"
   ]
  },
  {
   "cell_type": "code",
   "execution_count": 79,
   "metadata": {},
   "outputs": [],
   "source": [
    "#df.head(4)['address']"
   ]
  },
  {
   "cell_type": "code",
   "execution_count": 64,
   "metadata": {
    "collapsed": true
   },
   "outputs": [],
   "source": [
    "df['area'] = df['address'].apply(lambda x :parse_area(x) )"
   ]
  },
  {
   "cell_type": "code",
   "execution_count": 78,
   "metadata": {},
   "outputs": [
    {
     "data": {
      "text/html": [
       "<div>\n",
       "<table border=\"1\" class=\"dataframe\">\n",
       "  <thead>\n",
       "    <tr style=\"text-align: right;\">\n",
       "      <th></th>\n",
       "      <th>name</th>\n",
       "      <th>address</th>\n",
       "      <th>url</th>\n",
       "      <th>style</th>\n",
       "      <th>area</th>\n",
       "    </tr>\n",
       "  </thead>\n",
       "  <tbody>\n",
       "    <tr>\n",
       "      <th>0</th>\n",
       "      <td>吉宏米粉湯(西門町店)</td>\n",
       "      <td>台北市萬華區昆明街140號1樓\\n\\t\\t\\t\\t\\t\\t\\t\\t\\t\\t\\t\\t\\t\\t\\...</td>\n",
       "      <td>http://www.ipeen.com.tw/shop/1082330-吉宏米粉湯-西門町店</td>\n",
       "      <td>小吃</td>\n",
       "      <td>萬華區</td>\n",
       "    </tr>\n",
       "    <tr>\n",
       "      <th>1</th>\n",
       "      <td>瓦法奇朵Waffogato(台北車站店)</td>\n",
       "      <td>台北市中正區信陽街29號\\n\\t\\t\\t\\t\\t\\t\\t\\t\\t\\t\\t\\t\\t\\t\\n\\t...</td>\n",
       "      <td>http://www.ipeen.com.tw/shop/979300-瓦法奇朵Waffog...</td>\n",
       "      <td>異國料理</td>\n",
       "      <td>中正區</td>\n",
       "    </tr>\n",
       "    <tr>\n",
       "      <th>2</th>\n",
       "      <td>添好運台灣 Timhowan Taiwan</td>\n",
       "      <td>台北市中正區忠孝西路一段36號1樓\\n\\t\\t\\t\\t\\t\\t\\t\\t\\t\\t\\t\\t\\t\\...</td>\n",
       "      <td>http://www.ipeen.com.tw/shop/965236-添好運台灣-Timh...</td>\n",
       "      <td>中式料理</td>\n",
       "      <td>中正區</td>\n",
       "    </tr>\n",
       "    <tr>\n",
       "      <th>3</th>\n",
       "      <td>威靈頓街1號 粥麵茶餐廳</td>\n",
       "      <td>台北市中正區館前路12號5樓 (UNIQLO樓上)\\n\\t\\t\\t\\t\\t\\t\\t\\t\\t\\...</td>\n",
       "      <td>http://www.ipeen.com.tw/shop/156281-威靈頓街1號-粥麵茶餐廳</td>\n",
       "      <td>中式料理</td>\n",
       "      <td>中正區</td>\n",
       "    </tr>\n",
       "    <tr>\n",
       "      <th>4</th>\n",
       "      <td>劉山東小吃店</td>\n",
       "      <td>台北市中正區開封街一段14巷2號\\n\\t\\t\\t\\t\\t\\t\\t\\t\\t\\t\\t\\t\\t\\t...</td>\n",
       "      <td>http://www.ipeen.com.tw/shop/44415-劉山東小吃店</td>\n",
       "      <td>中式料理</td>\n",
       "      <td>中正區</td>\n",
       "    </tr>\n",
       "  </tbody>\n",
       "</table>\n",
       "</div>"
      ],
      "text/plain": [
       "                    name                                            address  \\\n",
       "0            吉宏米粉湯(西門町店)  台北市萬華區昆明街140號1樓\\n\\t\\t\\t\\t\\t\\t\\t\\t\\t\\t\\t\\t\\t\\t\\...   \n",
       "1   瓦法奇朵Waffogato(台北車站店)  台北市中正區信陽街29號\\n\\t\\t\\t\\t\\t\\t\\t\\t\\t\\t\\t\\t\\t\\t\\n\\t...   \n",
       "2  添好運台灣 Timhowan Taiwan  台北市中正區忠孝西路一段36號1樓\\n\\t\\t\\t\\t\\t\\t\\t\\t\\t\\t\\t\\t\\t\\...   \n",
       "3           威靈頓街1號 粥麵茶餐廳  台北市中正區館前路12號5樓 (UNIQLO樓上)\\n\\t\\t\\t\\t\\t\\t\\t\\t\\t\\...   \n",
       "4                 劉山東小吃店  台北市中正區開封街一段14巷2號\\n\\t\\t\\t\\t\\t\\t\\t\\t\\t\\t\\t\\t\\t\\t...   \n",
       "\n",
       "                                                 url style area  \n",
       "0    http://www.ipeen.com.tw/shop/1082330-吉宏米粉湯-西門町店    小吃  萬華區  \n",
       "1  http://www.ipeen.com.tw/shop/979300-瓦法奇朵Waffog...  異國料理  中正區  \n",
       "2  http://www.ipeen.com.tw/shop/965236-添好運台灣-Timh...  中式料理  中正區  \n",
       "3   http://www.ipeen.com.tw/shop/156281-威靈頓街1號-粥麵茶餐廳  中式料理  中正區  \n",
       "4          http://www.ipeen.com.tw/shop/44415-劉山東小吃店  中式料理  中正區  "
      ]
     },
     "execution_count": 78,
     "metadata": {},
     "output_type": "execute_result"
    }
   ],
   "source": [
    "df.head()"
   ]
  },
  {
   "cell_type": "code",
   "execution_count": 77,
   "metadata": {
    "collapsed": true
   },
   "outputs": [],
   "source": [
    "#df.to_csv('ipeen_restaurant_0617.csv')"
   ]
  }
 ],
 "metadata": {
  "kernelspec": {
   "display_name": "Python 3",
   "language": "python",
   "name": "python3"
  },
  "language_info": {
   "codemirror_mode": {
    "name": "ipython",
    "version": 3
   },
   "file_extension": ".py",
   "mimetype": "text/x-python",
   "name": "python",
   "nbconvert_exporter": "python",
   "pygments_lexer": "ipython3",
   "version": "3.4.5"
  }
 },
 "nbformat": 4,
 "nbformat_minor": 2
}
