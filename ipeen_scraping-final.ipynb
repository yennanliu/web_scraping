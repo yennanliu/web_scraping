{
 "cells": [
  {
   "cell_type": "markdown",
   "metadata": {},
   "source": [
    "- ref http://stackoverflow.com/questions/40384289/web-scraping-python-extract-data-in-class-href-tag/40384398?noredirect=1#comment68021453_40384398\n",
    "- ref http://chrisalbon.com/python/beautiful_soup_html_basics.html\n",
    "- ref https://medium.com/dualcores-studio/python-x-%E7%B6%B2%E8%B7%AF%E7%88%AC%E8%9F%B2-c30ffda0ad78#.ruh8fs4v4"
   ]
  },
  {
   "cell_type": "code",
   "execution_count": 1,
   "metadata": {
    "collapsed": false
   },
   "outputs": [],
   "source": [
    "import urllib \n",
    "#import simplejson \n",
    "import sys\n",
    "from urllib.request import urlopen\n",
    "import csv\n",
    "import requests\n",
    "from bs4 import BeautifulSoup\n",
    "import lxml\n",
    "import urllib, json\n",
    "import pandas as pd, numpy as np\n",
    "import pprint\n",
    "import datetime as dt \n",
    "from urllib.parse   import quote\n",
    "import sys \n",
    "#import urllib2\n",
    "import re\n",
    "import lxml"
   ]
  },
  {
   "cell_type": "code",
   "execution_count": 2,
   "metadata": {
    "collapsed": false
   },
   "outputs": [
    {
     "name": "stderr",
     "output_type": "stream",
     "text": [
      "//anaconda/envs/g_dash/lib/python3.4/site-packages/bs4/__init__.py:181: UserWarning: No parser was explicitly specified, so I'm using the best available HTML parser for this system (\"html.parser\"). This usually isn't a problem, but if you run this code on another system, or in a different virtual environment, it may use a different parser and behave differently.\n",
      "\n",
      "The code that caused this warning is on line 170 of the file /anaconda/envs/g_dash/lib/python3.4/runpy.py. To get rid of this warning, change code that looks like this:\n",
      "\n",
      " BeautifulSoup([your markup])\n",
      "\n",
      "to this:\n",
      "\n",
      " BeautifulSoup([your markup], \"html.parser\")\n",
      "\n",
      "  markup_type=markup_type))\n"
     ]
    }
   ],
   "source": [
    "url ='http://www.ipeen.com.tw/search/all/000/0-100-0-0/%E4%B8%AD%E5%BC%8F/?adkw=%E5%8F%B0%E5%8C%97'\n",
    "opener=urllib.request.build_opener()\n",
    "opener.addheaders = [('User-agent', 'Mozilla/5.0')]\n",
    "page = opener.open(url)\n",
    "soup = BeautifulSoup(page)"
   ]
  },
  {
   "cell_type": "markdown",
   "metadata": {},
   "source": [
    "# Restaurant name "
   ]
  },
  {
   "cell_type": "code",
   "execution_count": 39,
   "metadata": {
    "collapsed": false
   },
   "outputs": [
    {
     "name": "stdout",
     "output_type": "stream",
     "text": [
      "黑潮市集花甲蟹鍋\n",
      "添好運台灣 Timhowan Taiwan\n",
      "威靈頓街1號 粥麵茶餐廳\n",
      "劉山東小吃店\n",
      "阜杭豆漿店\n",
      "點水樓(懷寧店)\n",
      "蘇杭餐廳(濟南店)\n",
      "北平田園餡餅粥\n",
      "小南門點心世界\n",
      "叁和院 台灣風格飲食\n",
      "小魏川菜餐廳\n",
      "123養生雞湯\n",
      "達人食社-嘉味水餃\n",
      "餃先生創意手工水餃\n",
      "小喬阿姨私房泡菜\n",
      "中式餐廳\n"
     ]
    }
   ],
   "source": [
    "for k in soup.find_all('a', attrs={'data-label': '店名'}):\n",
    "    print (k.text)"
   ]
  },
  {
   "cell_type": "markdown",
   "metadata": {},
   "source": [
    "# Restaurant address"
   ]
  },
  {
   "cell_type": "code",
   "execution_count": 42,
   "metadata": {
    "collapsed": false
   },
   "outputs": [
    {
     "name": "stdout",
     "output_type": "stream",
     "text": [
      "台北市大安區光復南路692巷6號\n",
      "\t\t\t\t\t\t\t\t\t\t\t\t\t\t\n",
      "\n",
      "台北市中正區忠孝西路一段36號1樓\n",
      "\t\t\t\t\t\t\t\t\t\t\t\t\t\t\n",
      "\n",
      "台北市中正區館前路12號5樓 (UNIQLO樓上)\n",
      "\t\t\t\t\t\t\t\t\t\t\t\t\t\t\n",
      "\n",
      "台北市中正區開封街一段14巷2號\n",
      "\t\t\t\t\t\t\t\t\t\t\t\t\t\t\n",
      "\n",
      "台北市中正區忠孝東路一段108號2樓\n",
      "\t\t\t\t\t\t\t\t\t\t\t\t\t\t\n",
      "\n",
      "台北市中正區懷寧街64號\n",
      "\t\t\t\t\t\t\t\t\t\t\t\t\t\t\n",
      "\n",
      "台北市中正區濟南路一段2-1號1樓\n",
      "\t\t\t\t\t\t\t\t\t\t\t\t\t\t\n",
      "\n",
      "台北市中正區重慶南路一段5巷1號\n",
      "\t\t\t\t\t\t\t\t\t\t\t\t\t\t\n",
      "\n",
      "台北市中正區北平西路3號(台北車站2樓)\n",
      "\t\t\t\t\t\t\t\t\t\t\t\t\t\t\n",
      "\n",
      "台北市大安區忠孝東路四段101巷14號\n",
      "\t\t\t\t\t\t\t\t\t\t\t\t\t\t\n",
      "\n",
      "台北市中正區公園路13號3樓\n",
      "\t\t\t\t\t\t\t\t\t\t\t\t\t\t\n",
      "\n",
      "台灣\n",
      "\t\t\t\t\t\t\t\t\t\t\t\t\t\n",
      "台灣\n",
      "\t\t\t\t\t\t\t\t\t\t\t\t\t\n",
      "台灣\n",
      "\t\t\t\t\t\t\t\t\t\t\t\t\t\n",
      "台灣\n",
      "\t\t\t\t\t\t\t\t\t\t\t\t\t\n",
      "台灣\n",
      "\t\t\t\t\t\t\t\t\t\t\t\t\t\n"
     ]
    }
   ],
   "source": [
    "for k in soup.findAll('span',{\"style\":\"padding-left:3em;\"}):\n",
    "    print (k.get_text())"
   ]
  },
  {
   "cell_type": "markdown",
   "metadata": {},
   "source": [
    "# Restaurant ID"
   ]
  },
  {
   "cell_type": "code",
   "execution_count": 38,
   "metadata": {
    "collapsed": false
   },
   "outputs": [
    {
     "name": "stdout",
     "output_type": "stream",
     "text": [
      "/shop/805942-黑潮市集花甲蟹鍋\n",
      "/shop/965236-添好運台灣-Timhowan-Taiwan\n",
      "/shop/156281-威靈頓街1號-粥麵茶餐廳\n",
      "/shop/44415-劉山東小吃店\n",
      "/shop/27702-阜杭豆漿店\n",
      "/shop/52988-點水樓-懷寧店\n",
      "/shop/22553-蘇杭餐廳-濟南店\n",
      "/shop/3800-北平田園餡餅粥\n",
      "/shop/39130-小南門點心世界\n",
      "/shop/941562-叁和院-台灣風格飲食\n",
      "/shop/6325-小魏川菜餐廳\n",
      "/shop/86651-123養生雞湯\n",
      "/shop/62767-達人食社-嘉味水餃\n",
      "/shop/583883-餃先生創意手工水餃\n",
      "/shop/711282-小喬阿姨私房泡菜\n",
      "/shop/593406-中式餐廳\n"
     ]
    }
   ],
   "source": [
    "for k in soup.find_all('a', {'class':\"a37 ga_tracking\"}):\n",
    "    \n",
    "    if \"/shop/\" in str(k['href']):\n",
    "        \n",
    "        print (k['href'])\n",
    "    else:\n",
    "        pass"
   ]
  },
  {
   "cell_type": "markdown",
   "metadata": {},
   "source": [
    "#  Put all together "
   ]
  },
  {
   "cell_type": "code",
   "execution_count": 82,
   "metadata": {
    "collapsed": true
   },
   "outputs": [],
   "source": [
    "output = [[] for k in range(3)]"
   ]
  },
  {
   "cell_type": "code",
   "execution_count": 50,
   "metadata": {
    "collapsed": false
   },
   "outputs": [],
   "source": [
    "for k in soup.find_all('a', attrs={'data-label': '店名'}):\n",
    "    output[0].append(k.text)\n",
    "\n",
    "for k in soup.findAll('span',{\"style\":\"padding-left:3em;\"}):\n",
    "    output[1].append(k.get_text())\n",
    "    \n",
    "\n",
    "for k in soup.find_all('a', {'class':\"a37 ga_tracking\"}):\n",
    "    \n",
    "    if \"/shop/\" in str(k['href']):\n",
    "        output[2].append((k['href']))\n",
    "    else:\n",
    "        pass"
   ]
  },
  {
   "cell_type": "code",
   "execution_count": 65,
   "metadata": {
    "collapsed": true
   },
   "outputs": [],
   "source": [
    "def url_fix(x):\n",
    "    return 'http://www.ipeen.com.tw' + x "
   ]
  },
  {
   "cell_type": "code",
   "execution_count": 67,
   "metadata": {
    "collapsed": false
   },
   "outputs": [],
   "source": [
    "df = pd.DataFrame(output).T\n",
    "df.columns = ['name', 'address', 'url']\n",
    "df.url = df.url.apply(lambda x :url_fix(x) )"
   ]
  },
  {
   "cell_type": "code",
   "execution_count": 70,
   "metadata": {
    "collapsed": false
   },
   "outputs": [
    {
     "data": {
      "text/html": [
       "<div>\n",
       "<table border=\"1\" class=\"dataframe\">\n",
       "  <thead>\n",
       "    <tr style=\"text-align: right;\">\n",
       "      <th></th>\n",
       "      <th>name</th>\n",
       "      <th>address</th>\n",
       "      <th>url</th>\n",
       "    </tr>\n",
       "  </thead>\n",
       "  <tbody>\n",
       "    <tr>\n",
       "      <th>0</th>\n",
       "      <td>黑潮市集花甲蟹鍋</td>\n",
       "      <td>台北市大安區光復南路692巷6號\\n\\t\\t\\t\\t\\t\\t\\t\\t\\t\\t\\t\\t\\t\\t\\n</td>\n",
       "      <td>http://www.ipeen.com.tw/shop/805942-黑潮市集花甲蟹鍋</td>\n",
       "    </tr>\n",
       "    <tr>\n",
       "      <th>1</th>\n",
       "      <td>添好運台灣 Timhowan Taiwan</td>\n",
       "      <td>台北市中正區忠孝西路一段36號1樓\\n\\t\\t\\t\\t\\t\\t\\t\\t\\t\\t\\t\\t\\t\\t\\n</td>\n",
       "      <td>http://www.ipeen.com.tw/shop/965236-添好運台灣-Timh...</td>\n",
       "    </tr>\n",
       "    <tr>\n",
       "      <th>2</th>\n",
       "      <td>威靈頓街1號 粥麵茶餐廳</td>\n",
       "      <td>台北市中正區館前路12號5樓 (UNIQLO樓上)\\n\\t\\t\\t\\t\\t\\t\\t\\t\\t\\...</td>\n",
       "      <td>http://www.ipeen.com.tw/shop/156281-威靈頓街1號-粥麵茶餐廳</td>\n",
       "    </tr>\n",
       "    <tr>\n",
       "      <th>3</th>\n",
       "      <td>劉山東小吃店</td>\n",
       "      <td>台北市中正區開封街一段14巷2號\\n\\t\\t\\t\\t\\t\\t\\t\\t\\t\\t\\t\\t\\t\\t\\n</td>\n",
       "      <td>http://www.ipeen.com.tw/shop/44415-劉山東小吃店</td>\n",
       "    </tr>\n",
       "    <tr>\n",
       "      <th>4</th>\n",
       "      <td>阜杭豆漿店</td>\n",
       "      <td>台北市中正區忠孝東路一段108號2樓\\n\\t\\t\\t\\t\\t\\t\\t\\t\\t\\t\\t\\t\\t...</td>\n",
       "      <td>http://www.ipeen.com.tw/shop/27702-阜杭豆漿店</td>\n",
       "    </tr>\n",
       "  </tbody>\n",
       "</table>\n",
       "</div>"
      ],
      "text/plain": [
       "                    name                                            address  \\\n",
       "0               黑潮市集花甲蟹鍋   台北市大安區光復南路692巷6號\\n\\t\\t\\t\\t\\t\\t\\t\\t\\t\\t\\t\\t\\t\\t\\n   \n",
       "1  添好運台灣 Timhowan Taiwan  台北市中正區忠孝西路一段36號1樓\\n\\t\\t\\t\\t\\t\\t\\t\\t\\t\\t\\t\\t\\t\\t\\n   \n",
       "2           威靈頓街1號 粥麵茶餐廳  台北市中正區館前路12號5樓 (UNIQLO樓上)\\n\\t\\t\\t\\t\\t\\t\\t\\t\\t\\...   \n",
       "3                 劉山東小吃店   台北市中正區開封街一段14巷2號\\n\\t\\t\\t\\t\\t\\t\\t\\t\\t\\t\\t\\t\\t\\t\\n   \n",
       "4                  阜杭豆漿店  台北市中正區忠孝東路一段108號2樓\\n\\t\\t\\t\\t\\t\\t\\t\\t\\t\\t\\t\\t\\t...   \n",
       "\n",
       "                                                 url  \n",
       "0       http://www.ipeen.com.tw/shop/805942-黑潮市集花甲蟹鍋  \n",
       "1  http://www.ipeen.com.tw/shop/965236-添好運台灣-Timh...  \n",
       "2   http://www.ipeen.com.tw/shop/156281-威靈頓街1號-粥麵茶餐廳  \n",
       "3          http://www.ipeen.com.tw/shop/44415-劉山東小吃店  \n",
       "4           http://www.ipeen.com.tw/shop/27702-阜杭豆漿店  "
      ]
     },
     "execution_count": 70,
     "metadata": {},
     "output_type": "execute_result"
    }
   ],
   "source": [
    "df.to_csv('ipeen_scrap.csv')\n",
    "df.head()"
   ]
  },
  {
   "cell_type": "markdown",
   "metadata": {},
   "source": [
    "# Loop over 5 pages "
   ]
  },
  {
   "cell_type": "code",
   "execution_count": 86,
   "metadata": {
    "collapsed": true
   },
   "outputs": [],
   "source": [
    "output = [[] for k in range(3)]"
   ]
  },
  {
   "cell_type": "code",
   "execution_count": 87,
   "metadata": {
    "collapsed": false
   },
   "outputs": [
    {
     "name": "stdout",
     "output_type": "stream",
     "text": [
      "http://www.ipeen.com.tw/search/all/000/0-100-0-0/%E4%B8%AD%E5%BC%8F/?p=1&adkw=%E5%8F%B0%E5%8C%97\n"
     ]
    },
    {
     "name": "stderr",
     "output_type": "stream",
     "text": [
      "//anaconda/envs/g_dash/lib/python3.4/site-packages/bs4/__init__.py:181: UserWarning: No parser was explicitly specified, so I'm using the best available HTML parser for this system (\"html.parser\"). This usually isn't a problem, but if you run this code on another system, or in a different virtual environment, it may use a different parser and behave differently.\n",
      "\n",
      "The code that caused this warning is on line 170 of the file /anaconda/envs/g_dash/lib/python3.4/runpy.py. To get rid of this warning, change code that looks like this:\n",
      "\n",
      " BeautifulSoup([your markup])\n",
      "\n",
      "to this:\n",
      "\n",
      " BeautifulSoup([your markup], \"html.parser\")\n",
      "\n",
      "  markup_type=markup_type))\n"
     ]
    },
    {
     "name": "stdout",
     "output_type": "stream",
     "text": [
      "http://www.ipeen.com.tw/search/all/000/0-100-0-0/%E4%B8%AD%E5%BC%8F/?p=2&adkw=%E5%8F%B0%E5%8C%97\n",
      "http://www.ipeen.com.tw/search/all/000/0-100-0-0/%E4%B8%AD%E5%BC%8F/?p=3&adkw=%E5%8F%B0%E5%8C%97\n",
      "http://www.ipeen.com.tw/search/all/000/0-100-0-0/%E4%B8%AD%E5%BC%8F/?p=4&adkw=%E5%8F%B0%E5%8C%97\n"
     ]
    }
   ],
   "source": [
    "for page in range(1,5):\n",
    "    url ='http://www.ipeen.com.tw/search/all/000/0-100-0-0/%E4%B8%AD%E5%BC%8F/?p={}&adkw=%E5%8F%B0%E5%8C%97'.format(page)\n",
    "    print (url)\n",
    "    opener=urllib.request.build_opener()\n",
    "    opener.addheaders = [('User-agent', 'Mozilla/5.0')]\n",
    "    page = opener.open(url)\n",
    "    soup = BeautifulSoup(page)\n",
    "    for k in soup.find_all('a', attrs={'data-label': '店名'}):\n",
    "        output[0].append(k.text)\n",
    "\n",
    "    for k in soup.findAll('span',{\"style\":\"padding-left:3em;\"}):\n",
    "        output[1].append(k.get_text())\n",
    "    \n",
    "    for k in soup.find_all('a', {'class':\"a37 ga_tracking\"}):\n",
    "        if \"/shop/\" in str(k['href']):\n",
    "            output[2].append((k['href']))\n",
    "        else:\n",
    "            pass\n"
   ]
  },
  {
   "cell_type": "code",
   "execution_count": 89,
   "metadata": {
    "collapsed": false,
    "scrolled": false
   },
   "outputs": [
    {
     "data": {
      "text/html": [
       "<div>\n",
       "<table border=\"1\" class=\"dataframe\">\n",
       "  <thead>\n",
       "    <tr style=\"text-align: right;\">\n",
       "      <th></th>\n",
       "      <th>name</th>\n",
       "      <th>address</th>\n",
       "      <th>url</th>\n",
       "    </tr>\n",
       "  </thead>\n",
       "  <tbody>\n",
       "    <tr>\n",
       "      <th>0</th>\n",
       "      <td>酒食坊 Pān-toh Bistro</td>\n",
       "      <td>台北市松山區光復北路7號1樓\\n\\t\\t\\t\\t\\t\\t\\t\\t\\t\\t\\t\\t\\t\\t\\n</td>\n",
       "      <td>http://www.ipeen.com.tw/shop/1046690-酒食坊-Pān-t...</td>\n",
       "    </tr>\n",
       "    <tr>\n",
       "      <th>1</th>\n",
       "      <td>添好運台灣 Timhowan Taiwan</td>\n",
       "      <td>台北市中正區忠孝西路一段36號1樓\\n\\t\\t\\t\\t\\t\\t\\t\\t\\t\\t\\t\\t\\t\\t\\n</td>\n",
       "      <td>http://www.ipeen.com.tw/shop/965236-添好運台灣-Timh...</td>\n",
       "    </tr>\n",
       "    <tr>\n",
       "      <th>2</th>\n",
       "      <td>威靈頓街1號 粥麵茶餐廳</td>\n",
       "      <td>台北市中正區館前路12號5樓 (UNIQLO樓上)\\n\\t\\t\\t\\t\\t\\t\\t\\t\\t\\...</td>\n",
       "      <td>http://www.ipeen.com.tw/shop/156281-威靈頓街1號-粥麵茶餐廳</td>\n",
       "    </tr>\n",
       "    <tr>\n",
       "      <th>3</th>\n",
       "      <td>劉山東小吃店</td>\n",
       "      <td>台北市中正區開封街一段14巷2號\\n\\t\\t\\t\\t\\t\\t\\t\\t\\t\\t\\t\\t\\t\\t\\n</td>\n",
       "      <td>http://www.ipeen.com.tw/shop/44415-劉山東小吃店</td>\n",
       "    </tr>\n",
       "    <tr>\n",
       "      <th>4</th>\n",
       "      <td>阜杭豆漿店</td>\n",
       "      <td>台北市中正區忠孝東路一段108號2樓\\n\\t\\t\\t\\t\\t\\t\\t\\t\\t\\t\\t\\t\\t...</td>\n",
       "      <td>http://www.ipeen.com.tw/shop/27702-阜杭豆漿店</td>\n",
       "    </tr>\n",
       "  </tbody>\n",
       "</table>\n",
       "</div>"
      ],
      "text/plain": [
       "                    name                                            address  \\\n",
       "0     酒食坊 Pān-toh Bistro     台北市松山區光復北路7號1樓\\n\\t\\t\\t\\t\\t\\t\\t\\t\\t\\t\\t\\t\\t\\t\\n   \n",
       "1  添好運台灣 Timhowan Taiwan  台北市中正區忠孝西路一段36號1樓\\n\\t\\t\\t\\t\\t\\t\\t\\t\\t\\t\\t\\t\\t\\t\\n   \n",
       "2           威靈頓街1號 粥麵茶餐廳  台北市中正區館前路12號5樓 (UNIQLO樓上)\\n\\t\\t\\t\\t\\t\\t\\t\\t\\t\\...   \n",
       "3                 劉山東小吃店   台北市中正區開封街一段14巷2號\\n\\t\\t\\t\\t\\t\\t\\t\\t\\t\\t\\t\\t\\t\\t\\n   \n",
       "4                  阜杭豆漿店  台北市中正區忠孝東路一段108號2樓\\n\\t\\t\\t\\t\\t\\t\\t\\t\\t\\t\\t\\t\\t...   \n",
       "\n",
       "                                                 url  \n",
       "0  http://www.ipeen.com.tw/shop/1046690-酒食坊-Pān-t...  \n",
       "1  http://www.ipeen.com.tw/shop/965236-添好運台灣-Timh...  \n",
       "2   http://www.ipeen.com.tw/shop/156281-威靈頓街1號-粥麵茶餐廳  \n",
       "3          http://www.ipeen.com.tw/shop/44415-劉山東小吃店  \n",
       "4           http://www.ipeen.com.tw/shop/27702-阜杭豆漿店  "
      ]
     },
     "execution_count": 89,
     "metadata": {},
     "output_type": "execute_result"
    }
   ],
   "source": [
    "df = pd.DataFrame(output).T\n",
    "df.columns = ['name', 'address', 'url']\n",
    "df.url = df.url.apply(lambda x :url_fix(x) )\n",
    "df.to_csv('ipeen_scrap.csv')\n",
    "df.head()"
   ]
  }
 ],
 "metadata": {
  "kernelspec": {
   "display_name": "Python 3",
   "language": "python",
   "name": "python3"
  },
  "language_info": {
   "codemirror_mode": {
    "name": "ipython",
    "version": 3
   },
   "file_extension": ".py",
   "mimetype": "text/x-python",
   "name": "python",
   "nbconvert_exporter": "python",
   "pygments_lexer": "ipython3",
   "version": "3.4.5"
  }
 },
 "nbformat": 4,
 "nbformat_minor": 1
}
