{
 "cells": [
  {
   "cell_type": "code",
   "execution_count": 1,
   "id": "1d18a82c-627d-4ffd-b95c-8ffb0fde5f32",
   "metadata": {},
   "outputs": [
    {
     "name": "stdout",
     "output_type": "stream",
     "text": [
      "/Users/yennanliu/web_scraping/dev\n"
     ]
    }
   ],
   "source": [
    "!pwd"
   ]
  },
  {
   "cell_type": "code",
   "execution_count": 13,
   "id": "08e6238d-af56-4640-af13-8bb0aa1c9ea0",
   "metadata": {},
   "outputs": [
    {
     "name": "stdout",
     "output_type": "stream",
     "text": [
      "Defaulting to user installation because normal site-packages is not writeable\n",
      "Collecting pillow\n",
      "  Downloading pillow-10.3.0-cp39-cp39-macosx_11_0_arm64.whl.metadata (9.2 kB)\n",
      "Downloading pillow-10.3.0-cp39-cp39-macosx_11_0_arm64.whl (3.4 MB)\n",
      "\u001b[2K   \u001b[38;2;114;156;31m━━━━━━━━━━━━━━━━━━━━━━━━━━━━━━━━━━━━━━━━\u001b[0m \u001b[32m3.4/3.4 MB\u001b[0m \u001b[31m4.5 MB/s\u001b[0m eta \u001b[36m0:00:00\u001b[0mm eta \u001b[36m0:00:01\u001b[0m[36m0:00:01\u001b[0m\n",
      "\u001b[?25hInstalling collected packages: pillow\n",
      "Successfully installed pillow-10.3.0\n"
     ]
    }
   ],
   "source": [
    "!pip install pillow"
   ]
  },
  {
   "cell_type": "code",
   "execution_count": 19,
   "id": "76f66fac-825b-4253-acae-7d6ee1be71ee",
   "metadata": {},
   "outputs": [],
   "source": [
    "import requests\n",
    "from bs4 import BeautifulSoup\n",
    "import os\n",
    "from PIL import Image\n",
    "from io import BytesIO\n",
    "\n",
    "\n",
    "import requests\n",
    "from bs4 import BeautifulSoup\n",
    "from datetime import datetime, timedelta\n",
    "\n",
    "from selenium import webdriver\n",
    "from selenium.webdriver.common.keys import Keys\n",
    "# https://blog.csdn.net/m0_49076971/article/details/126233151\n",
    "\n",
    "from selenium.webdriver.common.by import By\n",
    "import time\n",
    "\n"
   ]
  },
  {
   "cell_type": "code",
   "execution_count": 2,
   "id": "ed13dc72-1d97-4a94-a5c3-3e053b91c4e6",
   "metadata": {},
   "outputs": [
    {
     "data": {
      "text/plain": [
       "'\\n# Ref\\n\\n- https://www.pixiv.net/tags/%E3%83%8E%E3%83%A9%E3%82%AC%E3%83%9F\\n'"
      ]
     },
     "execution_count": 2,
     "metadata": {},
     "output_type": "execute_result"
    }
   ],
   "source": [
    "\"\"\"\n",
    "# Ref\n",
    "\n",
    "- https://www.pixiv.net/tags/%E3%83%8E%E3%83%A9%E3%82%AC%E3%83%9F\n",
    "\"\"\""
   ]
  },
  {
   "cell_type": "code",
   "execution_count": 6,
   "id": "5012ccf3-e153-4335-bbb8-8bbc4d270d44",
   "metadata": {},
   "outputs": [],
   "source": [
    "# Create a directory to save the images\n",
    "if not os.path.exists(\"pixiv_images\"):\n",
    "    os.makedirs(\"pixiv_images\")"
   ]
  },
  {
   "cell_type": "code",
   "execution_count": 7,
   "id": "280290bc-1140-4288-b1ba-d4d5db2d8372",
   "metadata": {},
   "outputs": [],
   "source": [
    "\n",
    "# The URL of the Pixiv page\n",
    "url = \"https://www.pixiv.net/tags/%E3%83%8E%E3%83%A9%E3%82%AC%E3%83%9F\"\n",
    "\n",
    "# Headers to mimic a browser visit\n",
    "headers = {\n",
    "    \"User-Agent\": \"Mozilla/5.0 (Windows NT 10.0; Win64; x64) AppleWebKit/537.36 (KHTML, like Gecko) Chrome/91.0.4472.124 Safari/537.36\"\n",
    "}\n",
    "\n",
    "# Make a request to the website\n",
    "response = requests.get(url, headers=headers)\n",
    "\n",
    "# Parse the HTML content\n",
    "soup = BeautifulSoup(response.content, \"html.parser\")\n",
    "\n"
   ]
  },
  {
   "cell_type": "code",
   "execution_count": 9,
   "id": "7fb35e32-9cf5-4922-9d8b-a4674075070b",
   "metadata": {},
   "outputs": [],
   "source": [
    "soup = BeautifulSoup(response.content, \"html.parser\")\n",
    "#print(\"soup = \" + str(soup))\n",
    "\n",
    "elements = soup.find_all(\"a\", class_=\"\", attrs={\"data-post-id\": True})"
   ]
  },
  {
   "cell_type": "code",
   "execution_count": 10,
   "id": "d0018298-fca7-41ae-8948-62c89e9f5df6",
   "metadata": {},
   "outputs": [
    {
     "name": "stdout",
     "output_type": "stream",
     "text": [
      "[]\n"
     ]
    }
   ],
   "source": [
    "print (elements)"
   ]
  },
  {
   "cell_type": "code",
   "execution_count": null,
   "id": "1db274ff-a617-4bea-a012-a65f4f01d37c",
   "metadata": {},
   "outputs": [],
   "source": []
  },
  {
   "cell_type": "code",
   "execution_count": null,
   "id": "f3cbdd49-d078-499c-b46c-713efaa30a95",
   "metadata": {},
   "outputs": [],
   "source": [
    "# Find and download images\n",
    "for img_tag in soup.find_all(\"img\"):\n",
    "    print (\"img_tag = \"  + str(img_tag))\n",
    "    img_url = img_tag.get(\"src\")\n",
    "    if img_url:\n",
    "        # Get the image name\n",
    "        img_name = os.path.basename(img_url)\n",
    "\n",
    "        # Download the image\n",
    "        img_response = requests.get(img_url, headers=headers)\n",
    "        with open(os.path.join(\"pixiv_images\", img_name), \"wb\") as img_file:\n",
    "            img_file.write(img_response.content)\n",
    "\n",
    "        print(f\"Downloaded {img_name}\")\n",
    "\n",
    "print(\"Scraping completed.\")"
   ]
  },
  {
   "cell_type": "code",
   "execution_count": null,
   "id": "2a285673-a0d2-47e1-b8b7-027bc6dc413a",
   "metadata": {},
   "outputs": [],
   "source": []
  },
  {
   "cell_type": "code",
   "execution_count": null,
   "id": "6ea65ef7-f3b7-4ae2-b4ef-0ed321551c05",
   "metadata": {},
   "outputs": [],
   "source": []
  },
  {
   "cell_type": "code",
   "execution_count": 22,
   "id": "06217632-7951-4c62-a6c2-18592510ea3d",
   "metadata": {},
   "outputs": [
    {
     "name": "stdout",
     "output_type": "stream",
     "text": [
      "--> img_url = https://s.pximg.net/www/js/build/89b113d671067311.svg\n",
      "Downloaded 89b113d671067311.svg\n",
      "--> img_url = https://i.pximg.net/c/384x280_80_a2_g2/img-master/img/2014/01/08/00/40/25/40829117_p0_master1200.jpg\n",
      "Downloaded 40829117_p0_master1200.jpg\n",
      "--> img_url = https://i.pximg.net/c/250x250_80_a2/img-master/img/2015/12/03/00/04/37/53854149_p0_square1200.jpg\n",
      "Downloaded 53854149_p0_square1200.jpg\n",
      "--> img_url = https://i.pximg.net/user-profile/img/2013/06/06/12/50/58/6333490_f95ebf6ac14344ad27262910d669aa40_50.jpg\n",
      "Downloaded 6333490_f95ebf6ac14344ad27262910d669aa40_50.jpg\n",
      "--> img_url = https://i.pximg.net/c/250x250_80_a2/img-master/img/2014/02/02/18/43/56/41345929_p0_square1200.jpg\n",
      "Downloaded 41345929_p0_square1200.jpg\n",
      "--> img_url = https://i.pximg.net/user-profile/img/2019/10/14/14/51/00/16413414_9e2e18e79cb94e697adb9dd83062b88a_50.png\n",
      "Downloaded 16413414_9e2e18e79cb94e697adb9dd83062b88a_50.png\n",
      "--> img_url = https://i.pximg.net/c/250x250_80_a2/img-master/img/2016/01/13/14/47/37/54065700_p0_square1200.jpg\n",
      "Downloaded 54065700_p0_square1200.jpg\n",
      "--> img_url = https://i.pximg.net/user-profile/img/2018/01/22/10/38/24/13725347_f7b3d741d91e9290a88b5e689b909b2a_50.jpg\n",
      "Downloaded 13725347_f7b3d741d91e9290a88b5e689b909b2a_50.jpg\n",
      "--> img_url = https://i.pximg.net/c/250x250_80_a2/img-master/img/2016/01/13/14/56/58/47366609_p0_square1200.jpg\n",
      "Downloaded 47366609_p0_square1200.jpg\n",
      "--> img_url = https://i.pximg.net/user-profile/img/2018/01/22/10/38/24/13725347_f7b3d741d91e9290a88b5e689b909b2a_50.jpg\n",
      "Downloaded 13725347_f7b3d741d91e9290a88b5e689b909b2a_50.jpg\n",
      "--> img_url = https://i.pximg.net/c/250x250_80_a2/img-master/img/2016/01/13/11/50/53/51531200_p0_square1200.jpg\n",
      "Downloaded 51531200_p0_square1200.jpg\n",
      "--> img_url = https://i.pximg.net/user-profile/img/2018/01/22/10/38/24/13725347_f7b3d741d91e9290a88b5e689b909b2a_50.jpg\n",
      "Downloaded 13725347_f7b3d741d91e9290a88b5e689b909b2a_50.jpg\n",
      "--> img_url = https://i.pximg.net/c/250x250_80_a2/img-master/img/2015/12/03/00/04/37/53854149_p0_square1200.jpg\n",
      "Downloaded 53854149_p0_square1200.jpg\n",
      "--> img_url = https://i.pximg.net/c/250x250_80_a2/img-master/img/2014/02/02/18/43/56/41345929_p0_square1200.jpg\n",
      "Downloaded 41345929_p0_square1200.jpg\n",
      "--> img_url = https://i.pximg.net/c/250x250_80_a2/img-master/img/2016/01/13/14/47/37/54065700_p0_square1200.jpg\n",
      "Downloaded 54065700_p0_square1200.jpg\n",
      "--> img_url = https://i.pximg.net/c/250x250_80_a2/img-master/img/2016/01/13/14/56/58/47366609_p0_square1200.jpg\n",
      "Downloaded 47366609_p0_square1200.jpg\n",
      "--> img_url = https://t.co/i/adsct?bci=3&eci=2&event_id=83a1887b-a40c-4596-b959-8f6cef5041a9&events=%5B%5B%22pageview%22%2C%7B%7D%5D%5D&integration=advertiser&p_id=Twitter&p_user_id=0&pl_id=6c5a6f1f-b2df-495a-926a-49b5a9fda11e&tw_document_href=https%3A%2F%2Fwww.pixiv.net%2Fen%2Ftags%2F%25E3%2583%258E%25E3%2583%25A9%25E3%2582%25AC%25E3%2583%259F&tw_iframe_status=0&tw_order_quantity=0&tw_sale_amount=0&txn_id=o3ivh&type=javascript&version=2.3.30\n",
      "Downloaded adsct?bci=3&eci=2&event_id=83a1887b-a40c-4596-b959-8f6cef5041a9&events=%5B%5B%22pageview%22%2C%7B%7D%5D%5D&integration=advertiser&p_id=Twitter&p_user_id=0&pl_id=6c5a6f1f-b2df-495a-926a-49b5a9fda11e&tw_document_href=https%3A%2F%2Fwww.pixiv.net%2Fen%2Ftags%2F%25E3%2583%258E%25E3%2583%25A9%25E3%2582%25AC%25E3%2583%259F&tw_iframe_status=0&tw_order_quantity=0&tw_sale_amount=0&txn_id=o3ivh&type=javascript&version=2.3.30\n",
      "--> img_url = https://analytics.twitter.com/i/adsct?bci=3&eci=2&event_id=83a1887b-a40c-4596-b959-8f6cef5041a9&events=%5B%5B%22pageview%22%2C%7B%7D%5D%5D&integration=advertiser&p_id=Twitter&p_user_id=0&pl_id=6c5a6f1f-b2df-495a-926a-49b5a9fda11e&tw_document_href=https%3A%2F%2Fwww.pixiv.net%2Fen%2Ftags%2F%25E3%2583%258E%25E3%2583%25A9%25E3%2582%25AC%25E3%2583%259F&tw_iframe_status=0&tw_order_quantity=0&tw_sale_amount=0&txn_id=o3ivh&type=javascript&version=2.3.30\n",
      "Downloaded adsct?bci=3&eci=2&event_id=83a1887b-a40c-4596-b959-8f6cef5041a9&events=%5B%5B%22pageview%22%2C%7B%7D%5D%5D&integration=advertiser&p_id=Twitter&p_user_id=0&pl_id=6c5a6f1f-b2df-495a-926a-49b5a9fda11e&tw_document_href=https%3A%2F%2Fwww.pixiv.net%2Fen%2Ftags%2F%25E3%2583%258E%25E3%2583%25A9%25E3%2582%25AC%25E3%2583%259F&tw_iframe_status=0&tw_order_quantity=0&tw_sale_amount=0&txn_id=o3ivh&type=javascript&version=2.3.30\n",
      "--> img_url = https://t.co/i/adsct?bci=3&eci=2&event_id=11df4567-56bd-4687-95cd-da018b9d31c1&events=%5B%5B%22pageview%22%2C%7B%7D%5D%5D&integration=advertiser&p_id=Twitter&p_user_id=0&pl_id=6c5a6f1f-b2df-495a-926a-49b5a9fda11e&tw_document_href=https%3A%2F%2Fwww.pixiv.net%2Fen%2Ftags%2F%25E3%2583%258E%25E3%2583%25A9%25E3%2582%25AC%25E3%2583%259F&tw_iframe_status=0&tw_order_quantity=0&tw_sale_amount=0&txn_id=nxdof&type=javascript&version=2.3.30\n",
      "Downloaded adsct?bci=3&eci=2&event_id=11df4567-56bd-4687-95cd-da018b9d31c1&events=%5B%5B%22pageview%22%2C%7B%7D%5D%5D&integration=advertiser&p_id=Twitter&p_user_id=0&pl_id=6c5a6f1f-b2df-495a-926a-49b5a9fda11e&tw_document_href=https%3A%2F%2Fwww.pixiv.net%2Fen%2Ftags%2F%25E3%2583%258E%25E3%2583%25A9%25E3%2582%25AC%25E3%2583%259F&tw_iframe_status=0&tw_order_quantity=0&tw_sale_amount=0&txn_id=nxdof&type=javascript&version=2.3.30\n",
      "--> img_url = https://analytics.twitter.com/i/adsct?bci=3&eci=2&event_id=11df4567-56bd-4687-95cd-da018b9d31c1&events=%5B%5B%22pageview%22%2C%7B%7D%5D%5D&integration=advertiser&p_id=Twitter&p_user_id=0&pl_id=6c5a6f1f-b2df-495a-926a-49b5a9fda11e&tw_document_href=https%3A%2F%2Fwww.pixiv.net%2Fen%2Ftags%2F%25E3%2583%258E%25E3%2583%25A9%25E3%2582%25AC%25E3%2583%259F&tw_iframe_status=0&tw_order_quantity=0&tw_sale_amount=0&txn_id=nxdof&type=javascript&version=2.3.30\n",
      "Downloaded adsct?bci=3&eci=2&event_id=11df4567-56bd-4687-95cd-da018b9d31c1&events=%5B%5B%22pageview%22%2C%7B%7D%5D%5D&integration=advertiser&p_id=Twitter&p_user_id=0&pl_id=6c5a6f1f-b2df-495a-926a-49b5a9fda11e&tw_document_href=https%3A%2F%2Fwww.pixiv.net%2Fen%2Ftags%2F%25E3%2583%258E%25E3%2583%25A9%25E3%2582%25AC%25E3%2583%259F&tw_iframe_status=0&tw_order_quantity=0&tw_sale_amount=0&txn_id=nxdof&type=javascript&version=2.3.30\n",
      "--> img_url = https://t.co/i/adsct?bci=3&eci=2&event_id=d9b08c4f-3e2f-454c-a13b-0a4926945d0d&events=%5B%5B%22pageview%22%2C%7B%7D%5D%5D&integration=advertiser&p_id=Twitter&p_user_id=0&pl_id=6c5a6f1f-b2df-495a-926a-49b5a9fda11e&tw_document_href=https%3A%2F%2Fwww.pixiv.net%2Fen%2Ftags%2F%25E3%2583%258E%25E3%2583%25A9%25E3%2582%25AC%25E3%2583%259F&tw_iframe_status=0&tw_order_quantity=0&tw_sale_amount=0&txn_id=o78s8&type=javascript&version=2.3.30\n",
      "Downloaded adsct?bci=3&eci=2&event_id=d9b08c4f-3e2f-454c-a13b-0a4926945d0d&events=%5B%5B%22pageview%22%2C%7B%7D%5D%5D&integration=advertiser&p_id=Twitter&p_user_id=0&pl_id=6c5a6f1f-b2df-495a-926a-49b5a9fda11e&tw_document_href=https%3A%2F%2Fwww.pixiv.net%2Fen%2Ftags%2F%25E3%2583%258E%25E3%2583%25A9%25E3%2582%25AC%25E3%2583%259F&tw_iframe_status=0&tw_order_quantity=0&tw_sale_amount=0&txn_id=o78s8&type=javascript&version=2.3.30\n",
      "--> img_url = https://analytics.twitter.com/i/adsct?bci=3&eci=2&event_id=d9b08c4f-3e2f-454c-a13b-0a4926945d0d&events=%5B%5B%22pageview%22%2C%7B%7D%5D%5D&integration=advertiser&p_id=Twitter&p_user_id=0&pl_id=6c5a6f1f-b2df-495a-926a-49b5a9fda11e&tw_document_href=https%3A%2F%2Fwww.pixiv.net%2Fen%2Ftags%2F%25E3%2583%258E%25E3%2583%25A9%25E3%2582%25AC%25E3%2583%259F&tw_iframe_status=0&tw_order_quantity=0&tw_sale_amount=0&txn_id=o78s8&type=javascript&version=2.3.30\n",
      "Downloaded adsct?bci=3&eci=2&event_id=d9b08c4f-3e2f-454c-a13b-0a4926945d0d&events=%5B%5B%22pageview%22%2C%7B%7D%5D%5D&integration=advertiser&p_id=Twitter&p_user_id=0&pl_id=6c5a6f1f-b2df-495a-926a-49b5a9fda11e&tw_document_href=https%3A%2F%2Fwww.pixiv.net%2Fen%2Ftags%2F%25E3%2583%258E%25E3%2583%25A9%25E3%2582%25AC%25E3%2583%259F&tw_iframe_status=0&tw_order_quantity=0&tw_sale_amount=0&txn_id=o78s8&type=javascript&version=2.3.30\n",
      "--> img_url = https://t.co/i/adsct?bci=3&eci=2&event_id=9ce2bb25-0933-444c-8a66-664646a1bc3f&events=%5B%5B%22pageview%22%2C%7B%7D%5D%5D&integration=advertiser&p_id=Twitter&p_user_id=0&pl_id=6c5a6f1f-b2df-495a-926a-49b5a9fda11e&tw_document_href=https%3A%2F%2Fwww.pixiv.net%2Fen%2Ftags%2F%25E3%2583%258E%25E3%2583%25A9%25E3%2582%25AC%25E3%2583%259F&tw_iframe_status=0&tw_order_quantity=0&tw_sale_amount=0&txn_id=o9pby&type=javascript&version=2.3.30\n",
      "Downloaded adsct?bci=3&eci=2&event_id=9ce2bb25-0933-444c-8a66-664646a1bc3f&events=%5B%5B%22pageview%22%2C%7B%7D%5D%5D&integration=advertiser&p_id=Twitter&p_user_id=0&pl_id=6c5a6f1f-b2df-495a-926a-49b5a9fda11e&tw_document_href=https%3A%2F%2Fwww.pixiv.net%2Fen%2Ftags%2F%25E3%2583%258E%25E3%2583%25A9%25E3%2582%25AC%25E3%2583%259F&tw_iframe_status=0&tw_order_quantity=0&tw_sale_amount=0&txn_id=o9pby&type=javascript&version=2.3.30\n",
      "--> img_url = https://analytics.twitter.com/i/adsct?bci=3&eci=2&event_id=9ce2bb25-0933-444c-8a66-664646a1bc3f&events=%5B%5B%22pageview%22%2C%7B%7D%5D%5D&integration=advertiser&p_id=Twitter&p_user_id=0&pl_id=6c5a6f1f-b2df-495a-926a-49b5a9fda11e&tw_document_href=https%3A%2F%2Fwww.pixiv.net%2Fen%2Ftags%2F%25E3%2583%258E%25E3%2583%25A9%25E3%2582%25AC%25E3%2583%259F&tw_iframe_status=0&tw_order_quantity=0&tw_sale_amount=0&txn_id=o9pby&type=javascript&version=2.3.30\n",
      "Downloaded adsct?bci=3&eci=2&event_id=9ce2bb25-0933-444c-8a66-664646a1bc3f&events=%5B%5B%22pageview%22%2C%7B%7D%5D%5D&integration=advertiser&p_id=Twitter&p_user_id=0&pl_id=6c5a6f1f-b2df-495a-926a-49b5a9fda11e&tw_document_href=https%3A%2F%2Fwww.pixiv.net%2Fen%2Ftags%2F%25E3%2583%258E%25E3%2583%25A9%25E3%2582%25AC%25E3%2583%259F&tw_iframe_status=0&tw_order_quantity=0&tw_sale_amount=0&txn_id=o9pby&type=javascript&version=2.3.30\n",
      "Scraping completed.\n"
     ]
    }
   ],
   "source": [
    "\n",
    "\n",
    "# Path to your WebDriver (e.g., ChromeDriver)\n",
    "#driver_path = '/path/to/chromedriver'\n",
    "\n",
    "# URL of the Pixiv page\n",
    "url = \"https://www.pixiv.net/tags/%E3%83%8E%E3%83%A9%E3%82%AC%E3%83%9F\"\n",
    "\n",
    "# # Set up the WebDriver options\n",
    "# chrome_options = Options()\n",
    "# chrome_options.add_argument(\"--headless\")  # Run headless Chrome\n",
    "# chrome_service = Service(driver_path)\n",
    "\n",
    "# # Set up the WebDriver\n",
    "# driver = webdriver.Chrome(service=chrome_service, options=chrome_options)\n",
    "# driver.get(url)\n",
    "\n",
    "# Initialize Chrome webdriver\n",
    "driver = webdriver.Chrome()\n",
    "\n",
    "# Open the webpage\n",
    "driver.get(url)\n",
    "\n",
    "\n",
    "# Wait for the page to load (adjust the sleep time if necessary)\n",
    "time.sleep(10)\n",
    "\n",
    "\n",
    "# Find image elements\n",
    "img_elements = driver.find_elements(By.TAG_NAME, \"img\")\n",
    "\n",
    "for img_element in img_elements:\n",
    "    img_url = img_element.get_attribute(\"src\")\n",
    "    if img_url and img_url.startswith(\"https://\"):\n",
    "        # Get the image name\n",
    "        print (\"--> img_url = \" + str(img_url))\n",
    "        img_name = os.path.basename(img_url)\n",
    "        #print (\"--> img_url = \" + str(img_url))\n",
    "\n",
    "        # # Download the image\n",
    "        # img_response = requests.get(img_url)\n",
    "        # img_data = img_response.content\n",
    "\n",
    "        # # Display the image using Pillow\n",
    "        # img = Image.open(BytesIO(img_data))\n",
    "        # img.show()\n",
    "\n",
    "        \n",
    "        # with open(os.path.join(\"pixiv_images\", img_name), \"wb\") as img_file:\n",
    "        #     img_file.write(img_response.content)\n",
    "\n",
    "        print(f\"Downloaded {img_name}\")\n",
    "\n",
    "# Close the WebDriver\n",
    "driver.quit()\n",
    "\n",
    "print(\"Scraping completed.\")\n"
   ]
  }
 ],
 "metadata": {
  "kernelspec": {
   "display_name": "Python 3 (ipykernel)",
   "language": "python",
   "name": "python3"
  },
  "language_info": {
   "codemirror_mode": {
    "name": "ipython",
    "version": 3
   },
   "file_extension": ".py",
   "mimetype": "text/x-python",
   "name": "python",
   "nbconvert_exporter": "python",
   "pygments_lexer": "ipython3",
   "version": "3.9.6"
  }
 },
 "nbformat": 4,
 "nbformat_minor": 5
}
